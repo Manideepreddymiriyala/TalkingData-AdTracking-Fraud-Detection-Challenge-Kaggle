{
 "cells": [
  {
   "cell_type": "markdown",
   "metadata": {},
   "source": [
    "# Load the dataset"
   ]
  },
  {
   "cell_type": "code",
   "execution_count": null,
   "metadata": {},
   "outputs": [],
   "source": [
    "import pandas as pd\n",
    "\n",
    "train_dtypes = {\n",
    "    'ip'            : 'uint32',\n",
    "    'app'           : 'uint16',\n",
    "    'device'        : 'uint16',\n",
    "    'os'            : 'uint16',\n",
    "    'channel'       : 'uint16',\n",
    "    'is_attributed' : 'uint8',\n",
    "}\n",
    "\n",
    "train_cols = ['ip', 'app', 'device', 'os', 'channel', 'is_attributed', 'click_time']\n",
    "\n",
    "train = pd.read_csv(\n",
    "    '../input/train.csv',\n",
    "    dtype=train_dtypes,\n",
    "    engine='c',\n",
    "    low_memory=True,\n",
    "    usecols=train_cols,\n",
    "#    nrows=5\n",
    ")"
   ]
  },
  {
   "cell_type": "code",
   "execution_count": null,
   "metadata": {},
   "outputs": [],
   "source": [
    "train.head()"
   ]
  },
  {
   "cell_type": "markdown",
   "metadata": {},
   "source": [
    "# Features train"
   ]
  },
  {
   "cell_type": "code",
   "execution_count": null,
   "metadata": {},
   "outputs": [],
   "source": [
    "train['hour'] = pd.to_datetime(train.click_time).dt.hour.astype('uint8')\n",
    "train['day'] = pd.to_datetime(train.click_time).dt.day.astype('uint8')\n",
    "train['second'] = pd.to_datetime(train.click_time).dt.second.astype('uint8')\n",
    "\n",
    "train.head()"
   ]
  },
  {
   "cell_type": "code",
   "execution_count": null,
   "metadata": {},
   "outputs": [],
   "source": [
    "import ipaddress\n",
    "\n",
    "train['ip_1'] = train['ip'].map(lambda x: str(ipaddress.IPv4Address(x)).split('.')[0]).astype('uint8')\n",
    "train['ip_2'] = train['ip'].map(lambda x: str(ipaddress.IPv4Address(x)).split('.')[1]).astype('uint8')\n",
    "train['ip_3'] = train['ip'].map(lambda x: str(ipaddress.IPv4Address(x)).split('.')[2]).astype('uint8')\n",
    "train['ip_4'] = train['ip'].map(lambda x: str(ipaddress.IPv4Address(x)).split('.')[3]).astype('uint8')\n",
    "\n",
    "train.head()"
   ]
  },
  {
   "cell_type": "code",
   "execution_count": null,
   "metadata": {},
   "outputs": [],
   "source": [
    "n_chans = (train[['ip','day','hour','channel']]\n",
    "   .groupby(by=['ip','day', 'hour'])[['channel']]\n",
    "   .count()\n",
    "   .reset_index()\n",
    "   .rename(columns={'channel': 'n_channels'})\n",
    "  )\n",
    "\n",
    "train = train.merge(n_chans, on=['ip','day','hour'], how='left')\n",
    "train['n_channels'] = train['n_channels'].astype('uint16')\n",
    "\n",
    "train.head()"
   ]
  },
  {
   "cell_type": "code",
   "execution_count": null,
   "metadata": {},
   "outputs": [],
   "source": [
    "n_chans = (train[['ip','app', 'channel']]\n",
    "    .groupby(by=['ip', 'app'])[['channel']]\n",
    "    .count()\n",
    "    .reset_index()\n",
    "    .rename(columns={'channel': 'ip_app_count'})\n",
    ")\n",
    "          \n",
    "train = train.merge(n_chans, on=['ip','app'], how='left')\n",
    "train['ip_app_count'] = train['ip_app_count'].astype('uint16')\n",
    "\n",
    "train.head()"
   ]
  },
  {
   "cell_type": "code",
   "execution_count": null,
   "metadata": {},
   "outputs": [],
   "source": [
    "n_chans = (train[['ip','app', 'os', 'channel']]\n",
    "   .groupby( by=['ip', 'app', 'os'])[['channel']]\n",
    "   .count()\n",
    "   .reset_index()\n",
    "   .rename(columns={'channel': 'ip_app_os_count'})\n",
    ")\n",
    "              \n",
    "train = train.merge(n_chans, on=['ip','app', 'os'], how='left')\n",
    "train['ip_app_os_count'] = train['ip_app_os_count'].astype('uint16')\n",
    "\n",
    "train.head()"
   ]
  },
  {
   "cell_type": "code",
   "execution_count": null,
   "metadata": {},
   "outputs": [],
   "source": [
    "train[[\n",
    "    'ip', 'app', 'device','os', 'channel', 'is_attributed',\n",
    "    'ip_1', 'ip_2', 'ip_3', 'ip_4', 'second',\n",
    "    'hour', 'day', 'n_channels', 'ip_app_count', 'ip_app_os_count'\n",
    "]].save_binary('../input/train_v1.bin')"
   ]
  },
  {
   "cell_type": "code",
   "execution_count": null,
   "metadata": {},
   "outputs": [],
   "source": [
    "predictors = [\n",
    "    'ip', 'device', 'app', 'os', 'channel', 'hour', 'n_channels', 'ip_app_count', 'ip_app_os_count',\n",
    "    'ip_1', 'ip_2', 'ip_3', 'ip_4', 'second', 'day'\n",
    "]\n",
    "categorical = ['ip', 'app', 'device', 'os', 'channel', 'hour', 'day', 'ip_1', 'ip_2', 'ip_3', 'ip_4', 'second']"
   ]
  },
  {
   "cell_type": "markdown",
   "metadata": {},
   "source": [
    "# Features test"
   ]
  },
  {
   "cell_type": "code",
   "execution_count": null,
   "metadata": {},
   "outputs": [],
   "source": [
    "test = pd.read_csv(\n",
    "    '../input/test.csv'\n",
    "#    , nrows=50000\n",
    ")\n",
    "\n",
    "test.head()"
   ]
  },
  {
   "cell_type": "code",
   "execution_count": null,
   "metadata": {},
   "outputs": [],
   "source": [
    "test['hour'] = pd.to_datetime(test.click_time).dt.hour.astype('uint8')\n",
    "test['day'] = pd.to_datetime(test.click_time).dt.day.astype('uint8')\n",
    "test['second'] = pd.to_datetime(test.click_time).dt.second.astype('uint8')\n",
    "\n",
    "test.head()"
   ]
  },
  {
   "cell_type": "code",
   "execution_count": null,
   "metadata": {},
   "outputs": [],
   "source": [
    "import ipaddress\n",
    "\n",
    "test['ip_1'] = test['ip'].map(lambda x: str(ipaddress.IPv4Address(x)).split('.')[0]).astype('uint8')\n",
    "test['ip_2'] = test['ip'].map(lambda x: str(ipaddress.IPv4Address(x)).split('.')[1]).astype('uint8')\n",
    "test['ip_3'] = test['ip'].map(lambda x: str(ipaddress.IPv4Address(x)).split('.')[2]).astype('uint8')\n",
    "test['ip_4'] = test['ip'].map(lambda x: str(ipaddress.IPv4Address(x)).split('.')[3]).astype('uint8')\n",
    "\n",
    "test.head()"
   ]
  },
  {
   "cell_type": "code",
   "execution_count": null,
   "metadata": {},
   "outputs": [],
   "source": [
    "n_chans = (test[['ip','day','hour','channel']]\n",
    "   .groupby(by=['ip','day', 'hour'])[['channel']]\n",
    "   .count()\n",
    "   .reset_index()\n",
    "   .rename(columns={'channel': 'n_channels'})\n",
    "  )\n",
    "\n",
    "test = test.merge(n_chans, on=['ip','day','hour'], how='left')\n",
    "test['n_channels'] = test['n_channels'].astype('uint16')\n",
    "\n",
    "test.head()"
   ]
  },
  {
   "cell_type": "code",
   "execution_count": null,
   "metadata": {},
   "outputs": [],
   "source": [
    "n_chans = (test[['ip','app', 'channel']]\n",
    "    .groupby(by=['ip', 'app'])[['channel']]\n",
    "    .count()\n",
    "    .reset_index()\n",
    "    .rename(columns={'channel': 'ip_app_count'})\n",
    ")\n",
    "          \n",
    "test = test.merge(n_chans, on=['ip','app'], how='left')\n",
    "test['ip_app_count'] = test['ip_app_count'].astype('uint16')\n",
    "\n",
    "test.head()"
   ]
  },
  {
   "cell_type": "code",
   "execution_count": null,
   "metadata": {},
   "outputs": [],
   "source": [
    "n_chans = (test[['ip','app', 'os', 'channel']]\n",
    "   .groupby( by=['ip', 'app', 'os'])[['channel']]\n",
    "   .count()\n",
    "   .reset_index()\n",
    "   .rename(columns={'channel': 'ip_app_os_count'})\n",
    ")\n",
    "              \n",
    "test = test.merge(n_chans, on=['ip','app', 'os'], how='left')\n",
    "test['ip_app_os_count'] = test['ip_app_os_count'].astype('uint16')\n",
    "\n",
    "test.head()"
   ]
  },
  {
   "cell_type": "code",
   "execution_count": null,
   "metadata": {},
   "outputs": [],
   "source": [
    "test[[\n",
    "    'ip', 'app', 'device','os', 'channel', 'is_attributed', \n",
    "    'ip_1', 'ip_2', 'ip_3', 'ip_4', 'second',\n",
    "    'hour', 'day', 'n_channels', 'ip_app_count', 'ip_app_os_count'\n",
    "]].save_binary('../input/test.bin')"
   ]
  },
  {
   "cell_type": "code",
   "execution_count": null,
   "metadata": {},
   "outputs": [],
   "source": []
  },
  {
   "cell_type": "code",
   "execution_count": null,
   "metadata": {},
   "outputs": [],
   "source": []
  }
 ],
 "metadata": {
  "kernelspec": {
   "display_name": "Python 3",
   "language": "python",
   "name": "python3"
  },
  "language_info": {
   "codemirror_mode": {
    "name": "ipython",
    "version": 3
   },
   "file_extension": ".py",
   "mimetype": "text/x-python",
   "name": "python",
   "nbconvert_exporter": "python",
   "pygments_lexer": "ipython3",
   "version": "3.5.2"
  }
 },
 "nbformat": 4,
 "nbformat_minor": 2
}
