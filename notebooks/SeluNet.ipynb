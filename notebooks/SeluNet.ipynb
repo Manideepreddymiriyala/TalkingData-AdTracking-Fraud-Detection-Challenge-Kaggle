{
 "cells": [
  {
   "cell_type": "markdown",
   "metadata": {},
   "source": [
    "# Load data"
   ]
  },
  {
   "cell_type": "code",
   "execution_count": null,
   "metadata": {},
   "outputs": [],
   "source": [
    "import pandas as pd\n",
    "\n",
    "train = pd.read_parquet('../input/train.parquet')\n",
    "\n",
    "features = ['ip', 'app', 'device', 'os', 'channel']\n",
    "target = ['is_attributed']\n",
    "\n",
    "X = train[features]\n",
    "y = train[target]"
   ]
  },
  {
   "cell_type": "markdown",
   "metadata": {},
   "source": [
    "# Train"
   ]
  },
  {
   "cell_type": "code",
   "execution_count": null,
   "metadata": {},
   "outputs": [],
   "source": [
    "import keras\n",
    "from keras.callbacks import Callback, ModelCheckpoint, EarlyStopping\n",
    "\n",
    "from keras.models import Sequential\n",
    "from keras.layers import Activation, Dropout, Dense, BatchNormalization\n",
    "from keras.layers import MaxPooling1D, Lambda, Convolution1D, Flatten, SpatialDropout1D, AlphaDropout\n",
    "from keras_tqdm import TQDMNotebookCallback\n",
    "from keras.layers.merge import Concatenate\n",
    "\n",
    "from keras.optimizers import Adam, RMSprop, Adamax, Adagrad, Nadam, SGD\n",
    "from keras.activations import elu, relu, tanh, sigmoid\n",
    "from keras.constraints import maxnorm\n",
    "from keras.initializers import lecun_uniform"
   ]
  },
  {
   "cell_type": "code",
   "execution_count": null,
   "metadata": {},
   "outputs": [],
   "source": [
    "def create_network(\n",
    "    input_dim,\n",
    "    n_dense=6,\n",
    "    dense_units=16,\n",
    "    activation='selu',\n",
    "    dropout=AlphaDropout,\n",
    "    dropout_rate=0.1,\n",
    "    kernel_initializer='lecun_normal',\n",
    "    optimizer='adam',\n",
    "    num_classes=1,\n",
    "    loss='binary_crossentropy'\n",
    "    ):\n",
    "    \"\"\"Generic function to create a fully-connected neural network.\n",
    "    # Arguments\n",
    "        n_dense: int > 0. Number of dense layers.\n",
    "        dense_units: int > 0. Number of dense units per layer.\n",
    "        dropout: keras.layers.Layer. A dropout layer to apply.\n",
    "        dropout_rate: 0 <= float <= 1. The rate of dropout.\n",
    "        kernel_initializer: str. The initializer for the weights.\n",
    "        optimizer: str/keras.optimizers.Optimizer. The optimizer to use.\n",
    "        num_classes: int > 0. The number of classes to predict.\n",
    "        max_words: int > 0. The maximum number of words per data point.\n",
    "    # Returns\n",
    "        A Keras model instance (compiled).\n",
    "    \"\"\"\n",
    "    model = Sequential()\n",
    "    model.add(Dense(dense_units, input_dim=input_dim,\n",
    "                    kernel_initializer=kernel_initializer))\n",
    "    model.add(Activation(activation))\n",
    "    model.add(dropout(dropout_rate))\n",
    "\n",
    "    for i in range(n_dense - 1):\n",
    "        model.add(Dense(dense_units, kernel_initializer=kernel_initializer))\n",
    "        model.add(Activation(activation))\n",
    "        model.add(dropout(dropout_rate))\n",
    "\n",
    "    model.add(Dense(num_classes))\n",
    "    model.add(Activation('sigmoid'))\n",
    "    model.compile(loss=loss,\n",
    "                  optimizer=optimizer,\n",
    "                  metrics=['accuracy'])\n",
    "    return model"
   ]
  },
  {
   "cell_type": "code",
   "execution_count": null,
   "metadata": {},
   "outputs": [],
   "source": [
    "network_selu = {\n",
    "    'n_dense': 64,\n",
    "    'dense_units': 32,\n",
    "    'activation': 'selu',\n",
    "    'dropout': AlphaDropout,\n",
    "    'dropout_rate': 0.05,\n",
    "    'kernel_initializer': 'lecun_normal',\n",
    "    'optimizer': Adam(1e-5)\n",
    "}\n",
    "\n",
    "model = create_network(X.shape[1], **network_selu)"
   ]
  },
  {
   "cell_type": "code",
   "execution_count": null,
   "metadata": {},
   "outputs": [],
   "source": [
    "model.fit(\n",
    "    X, y,\n",
    "    batch_size= 4 * 4096,\n",
    "    epochs=25,\n",
    "    validation_split=0.05,\n",
    "    verbose=0,\n",
    "    callbacks=[TQDMNotebookCallback(leave_inner=True, leave_outer=True)] \n",
    ")"
   ]
  },
  {
   "cell_type": "markdown",
   "metadata": {},
   "source": [
    "# Submission"
   ]
  },
  {
   "cell_type": "code",
   "execution_count": null,
   "metadata": {},
   "outputs": [],
   "source": [
    "import gc\n",
    "\n",
    "del train\n",
    "gc.collect()"
   ]
  },
  {
   "cell_type": "code",
   "execution_count": null,
   "metadata": {},
   "outputs": [],
   "source": [
    "test = pd.read_parquet('../input/test.parquet')\n",
    "\n",
    "test_cols = ['ip', 'app', 'device', 'os', 'channel']\n",
    "X_test = test[test_cols]"
   ]
  },
  {
   "cell_type": "code",
   "execution_count": null,
   "metadata": {},
   "outputs": [],
   "source": [
    "test.head()"
   ]
  },
  {
   "cell_type": "code",
   "execution_count": null,
   "metadata": {},
   "outputs": [],
   "source": [
    "submission = pd.DataFrame()\n",
    "submission['click_id'] = test['click_id']\n",
    "submission['is_attributed'] = model.predict(X_test, 128 * 4096)"
   ]
  },
  {
   "cell_type": "code",
   "execution_count": null,
   "metadata": {},
   "outputs": [],
   "source": [
    "submission.head()"
   ]
  },
  {
   "cell_type": "code",
   "execution_count": null,
   "metadata": {},
   "outputs": [],
   "source": [
    "submission.shape"
   ]
  },
  {
   "cell_type": "code",
   "execution_count": null,
   "metadata": {},
   "outputs": [],
   "source": [
    "submission.to_csv('../submissions/selu_net_v3.csv', index=False)"
   ]
  },
  {
   "cell_type": "code",
   "execution_count": null,
   "metadata": {},
   "outputs": [],
   "source": []
  }
 ],
 "metadata": {
  "kernelspec": {
   "display_name": "Python 3",
   "language": "python",
   "name": "python3"
  },
  "language_info": {
   "codemirror_mode": {
    "name": "ipython",
    "version": 3
   },
   "file_extension": ".py",
   "mimetype": "text/x-python",
   "name": "python",
   "nbconvert_exporter": "python",
   "pygments_lexer": "ipython3",
   "version": "3.5.2"
  }
 },
 "nbformat": 4,
 "nbformat_minor": 2
}
