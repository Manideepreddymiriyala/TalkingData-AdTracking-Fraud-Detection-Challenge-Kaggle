{
 "cells": [
  {
   "cell_type": "markdown",
   "metadata": {},
   "source": [
    "# Docs\n",
    "* Maxmind dbs https://dev.maxmind.com/geoip/geoip2/geolite2/\n",
    "* pygeoip examples: https://stackoverflow.com/questions/24678308/how-to-find-location-with-ip-address-in-python\n",
    "* how to use maxmind dbs: http://geoip2.readthedocs.io/en/latest/"
   ]
  },
  {
   "cell_type": "code",
   "execution_count": null,
   "metadata": {},
   "outputs": [],
   "source": [
    "import pandas as pd\n",
    "import ipaddress\n",
    "from pygeoip import GeoIP, MEMORY_CACHE"
   ]
  },
  {
   "cell_type": "code",
   "execution_count": null,
   "metadata": {},
   "outputs": [],
   "source": [
    "train = pd.read_parquet('../input/train.parquet', nthreads=4)\n",
    "\n",
    "train.head()"
   ]
  },
  {
   "cell_type": "markdown",
   "metadata": {},
   "source": [
    "## Legacy (pygeoip)"
   ]
  },
  {
   "cell_type": "code",
   "execution_count": null,
   "metadata": {},
   "outputs": [],
   "source": [
    "gi = GeoIP(\"../dbs/GeoLiteCity.dat\", MEMORY_CACHE)\n",
    "\n",
    "def get_deoip(byte_ip):\n",
    "    ip = str(ipaddress.IPv4Address(byte_ip))\n",
    "    return gi.record_by_addr(ip)"
   ]
  },
  {
   "cell_type": "code",
   "execution_count": null,
   "metadata": {},
   "outputs": [],
   "source": [
    "print(get_deoip(17357))"
   ]
  },
  {
   "cell_type": "code",
   "execution_count": null,
   "metadata": {},
   "outputs": [],
   "source": [
    "print(get_deoip('216.58.217.206'))"
   ]
  },
  {
   "cell_type": "markdown",
   "metadata": {},
   "source": [
    "## Maxmind geoip2"
   ]
  },
  {
   "cell_type": "code",
   "execution_count": null,
   "metadata": {},
   "outputs": [],
   "source": [
    "import geoip2.database"
   ]
  },
  {
   "cell_type": "code",
   "execution_count": null,
   "metadata": {},
   "outputs": [],
   "source": [
    "with geoip2.database.Reader('../dbs/GeoLite2-ASN_20180403/GeoLite2-ASN.mmdb') as reader:\n",
    "    response = reader.asn('216.58.217.206')\n",
    "    print(response)\n",
    "    \n",
    "    for ip_byte in train['ip']:\n",
    "        try:\n",
    "            ip = str(ipaddress.IPv4Address(ip_byte))\n",
    "            response = reader.asn(ip)\n",
    "            print(response)\n",
    "        except geoip2.errors.AddressNotFoundError:\n",
    "            pass"
   ]
  },
  {
   "cell_type": "code",
   "execution_count": null,
   "metadata": {},
   "outputs": [],
   "source": []
  }
 ],
 "metadata": {
  "kernelspec": {
   "display_name": "Python 3",
   "language": "python",
   "name": "python3"
  },
  "language_info": {
   "codemirror_mode": {
    "name": "ipython",
    "version": 3
   },
   "file_extension": ".py",
   "mimetype": "text/x-python",
   "name": "python",
   "nbconvert_exporter": "python",
   "pygments_lexer": "ipython3",
   "version": "3.5.2"
  }
 },
 "nbformat": 4,
 "nbformat_minor": 2
}
